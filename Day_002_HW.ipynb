{
 "cells": [
  {
   "cell_type": "markdown",
   "metadata": {},
   "source": [
    "# [作業目標]\n",
    "\n",
    "了解機器學習適合應用的領域與範疇"
   ]
  },
  {
   "cell_type": "markdown",
   "metadata": {},
   "source": [
    "## [作業重點]\n",
    "\n",
    "透過了解機器學習的運作方式，找出非常是用機器學習應用的領域及其原因。"
   ]
  },
  {
   "cell_type": "markdown",
   "metadata": {},
   "source": [
    "## [作業]\n",
    "\n",
    "請找出一個你認為機器學習可以發光發熱的領域，並闡述原因。"
   ]
  },
  {
   "cell_type": "markdown",
   "metadata": {},
   "source": [
    "## [回答]\n",
    "\n",
    "    無現金支付。\n",
    "\n",
    "    無現金支付，泛指悠遊卡、信用卡、街口支付...等，不同於傳統，不需現金即可完成消費的支付方式。無現金支付方便消費者不用攜帶大把大把的現金，即能出門逛街、購物。但無現金支付不僅僅是方便消費者，最重要的是，有助於消費資料的留存，交易時間、交易金額、購買商品、消費店家。更進一步的若是對於各式各樣的支付，能夠綁定特定的消費者，以此收集到，性別、年齡、職業、居住地區...等，如此之資料。\n",
    "    機器學習（Machine Learning），意在將資料利用機器（Computer）、演算法找出，資料中反應變數與解釋變數之間的關係。以此想法之下，我們便可利用無現金支付所收集到的資料，找出消費者習慣。例如：\n",
    "    1. 消費者喜歡至什麼樣的店家做消費？\n",
    "    2. 於什麼時間點會有最多的消費者至什麼樣的店家做消費？\n",
    "    3. 而一位新的消費者出現，他又會至甚麼類型的店家，消費多少金額？\n",
    "    如此，對於店家可以幫助他們更加了解自己所該推銷的客群，對於消費者也能更快速的尋找到自己所想要購買的商品。"
   ]
  },
  {
   "cell_type": "code",
   "execution_count": null,
   "metadata": {},
   "outputs": [],
   "source": []
  },
  {
   "cell_type": "code",
   "execution_count": null,
   "metadata": {},
   "outputs": [],
   "source": []
  },
  {
   "cell_type": "code",
   "execution_count": null,
   "metadata": {},
   "outputs": [],
   "source": []
  }
 ],
 "metadata": {
  "kernelspec": {
   "display_name": "Python 2",
   "language": "python",
   "name": "python2"
  },
  "language_info": {
   "codemirror_mode": {
    "name": "ipython",
    "version": 2
   },
   "file_extension": ".py",
   "mimetype": "text/x-python",
   "name": "python",
   "nbconvert_exporter": "python",
   "pygments_lexer": "ipython2",
   "version": "2.7.16"
  }
 },
 "nbformat": 4,
 "nbformat_minor": 2
}
